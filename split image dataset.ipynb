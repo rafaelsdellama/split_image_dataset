{
 "cells": [
  {
   "cell_type": "code",
   "execution_count": 1,
   "metadata": {},
   "outputs": [],
   "source": [
    "import os\n",
    "import shutil\n",
    "import random as rd\n",
    "\n",
    "\n",
    "def makedir_if_not_exist(dataset_dir):\n",
    "    if not os.path.exists(dataset_dir):\n",
    "        os.makedirs(dataset_dir)\n",
    "\n",
    "def split_dataset(dataset_dir, test_size):\n",
    "    train_dataset = os.path.join(dataset_dir, \"train\")\n",
    "    test_dataset = os.path.join(dataset_dir, \"test\")\n",
    "        \n",
    "    classes = os.listdir(dataset_dir)\n",
    "    for c in classes:\n",
    "        print(f\"Splitting class {c}...\")\n",
    "        \n",
    "        samples = os.listdir(os.path.join(dataset_dir, c))\n",
    "        rd.shuffle(samples)\n",
    "        \n",
    "        makedir_if_not_exist(os.path.join(train_dataset, c))\n",
    "        makedir_if_not_exist(os.path.join(test_dataset, c))\n",
    "        \n",
    "        for i, sample in enumerate(samples):\n",
    "            if i < len(samples) * test_size:\n",
    "                shutil.copy(os.path.join(dataset_dir, c, sample), os.path.join(test_dataset, c, sample))\n",
    "            else:\n",
    "                shutil.copy(os.path.join(dataset_dir, c, sample), os.path.join(train_dataset, c, sample))\n",
    "        \n",
    "        "
   ]
  },
  {
   "cell_type": "code",
   "execution_count": 2,
   "metadata": {},
   "outputs": [
    {
     "name": "stdout",
     "output_type": "stream",
     "text": [
      "Splitting class 6...\n",
      "Splitting class g...\n",
      "Splitting class p...\n",
      "Splitting class c...\n",
      "Splitting class 3...\n",
      "Splitting class 5...\n",
      "Splitting class i...\n",
      "Splitting class v...\n",
      "Splitting class 4...\n",
      "Splitting class k...\n",
      "Splitting class l...\n",
      "Splitting class 2...\n",
      "Splitting class b...\n",
      "Splitting class r...\n",
      "Splitting class h...\n",
      "Splitting class u...\n",
      "Splitting class 1...\n",
      "Splitting class m...\n",
      "Splitting class o...\n",
      "Splitting class d...\n",
      "Splitting class 7...\n",
      "Splitting class j...\n",
      "Splitting class t...\n",
      "Splitting class y...\n",
      "Splitting class f...\n",
      "Splitting class a...\n",
      "Splitting class w...\n",
      "Splitting class 9...\n",
      "Splitting class q...\n",
      "Splitting class e...\n",
      "Splitting class x...\n",
      "Splitting class 8...\n",
      "Splitting class s...\n",
      "Splitting class z...\n",
      "Splitting class n...\n"
     ]
    }
   ],
   "source": [
    "dataset_dir = \"/home/user/GitHub/darf_generator/downloads/dataset\"\n",
    "test_size = 0.2\n",
    "\n",
    "split_dataset(dataset_dir, test_size)"
   ]
  },
  {
   "cell_type": "code",
   "execution_count": null,
   "metadata": {},
   "outputs": [],
   "source": []
  }
 ],
 "metadata": {
  "kernelspec": {
   "display_name": "Python 3",
   "language": "python",
   "name": "python3"
  },
  "language_info": {
   "codemirror_mode": {
    "name": "ipython",
    "version": 3
   },
   "file_extension": ".py",
   "mimetype": "text/x-python",
   "name": "python",
   "nbconvert_exporter": "python",
   "pygments_lexer": "ipython3",
   "version": "3.6.9"
  }
 },
 "nbformat": 4,
 "nbformat_minor": 4
}
